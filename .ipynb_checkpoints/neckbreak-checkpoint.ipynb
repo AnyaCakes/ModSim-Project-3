{
 "cells": [
  {
   "cell_type": "code",
   "execution_count": 58,
   "metadata": {
    "collapsed": true
   },
   "outputs": [],
   "source": [
    "%matplotlib inline\n",
    "\n",
    "from modsim import *"
   ]
  },
  {
   "cell_type": "code",
   "execution_count": 59,
   "metadata": {
    "collapsed": true
   },
   "outputs": [],
   "source": [
    "m = UNITS.meter\n",
    "s = UNITS.second\n",
    "k = UNITS.meter * 1000\n",
    "kg = UNITS.kilogram\n",
    "cm = UNITS.centimeter\n",
    "h = UNITS.hour\n",
    "g = UNITS.gravity #gravity?"
   ]
  },
  {
   "cell_type": "code",
   "execution_count": 88,
   "metadata": {
    "collapsed": true
   },
   "outputs": [],
   "source": [
    "#condition = Condition(duration = 100 * h)\n",
    "condition = Condition(accel=200*m/s**2,\n",
    "                     vel = 0*m/s,\n",
    "                     d_to_dest= 549*k,\n",
    "                     cd = 0.035,\n",
    "                     p = 1.29 * 10**-6 *kg /cm**3,\n",
    "                     area = 3.28 * m **2,\n",
    "                     v_max = 1200 * k/h,\n",
    "                     v_init=0 * m/s,\n",
    "                     t_safe=10 * s,\n",
    "                     safe_accel = 2 * g,\n",
    "                     mass = 2500 * kg,\n",
    "                     duration = 100 *h)"
   ]
  },
  {
   "cell_type": "code",
   "execution_count": 89,
   "metadata": {
    "collapsed": true
   },
   "outputs": [],
   "source": [
    "def make_system(conditon):\n",
    "    unpack(condition)\n",
    "    '''init = State(accel = 1 * m / s**2, \n",
    "                 vel = 0 * m / s, \n",
    "                 d_to_dest = 549 * k, \n",
    "                 d_traveled = 0 * k, \n",
    "                 cd = 0, \n",
    "                 p = 1.29 * 10**-6 * kg / cm*3,\n",
    "                 area = 3.28 * m**2,\n",
    "                 v_max = 1200 * k / h,\n",
    "                 safe_accel = 3 * g,\n",
    "                 duration = 100 * h\n",
    "                )'''\n",
    "    #init = State(accel=accel, d_to_dest=d_to_dest)\n",
    "    init = State(d=0, v=v_init)\n",
    "    ts = linspace(0, duration, 101)\n",
    "    return System(init=init, ts=ts)\n",
    "                 "
   ]
  },
  {
   "cell_type": "code",
   "execution_count": 90,
   "metadata": {
    "collapsed": true
   },
   "outputs": [],
   "source": [
    "system = make_system(condition)"
   ]
  },
  {
   "cell_type": "code",
   "execution_count": 91,
   "metadata": {},
   "outputs": [
    {
     "data": {
      "text/html": [
       "<div>\n",
       "<style>\n",
       "    .dataframe thead tr:only-child th {\n",
       "        text-align: right;\n",
       "    }\n",
       "\n",
       "    .dataframe thead th {\n",
       "        text-align: left;\n",
       "    }\n",
       "\n",
       "    .dataframe tbody tr th {\n",
       "        vertical-align: top;\n",
       "    }\n",
       "</style>\n",
       "<table border=\"1\" class=\"dataframe\">\n",
       "  <thead>\n",
       "    <tr style=\"text-align: right;\">\n",
       "      <th></th>\n",
       "      <th>value</th>\n",
       "    </tr>\n",
       "  </thead>\n",
       "  <tbody>\n",
       "    <tr>\n",
       "      <th>d</th>\n",
       "      <td>0</td>\n",
       "    </tr>\n",
       "    <tr>\n",
       "      <th>v</th>\n",
       "      <td>0.0 meter / second</td>\n",
       "    </tr>\n",
       "  </tbody>\n",
       "</table>\n",
       "</div>"
      ],
      "text/plain": [
       "d                     0\n",
       "v    0.0 meter / second\n",
       "dtype: object"
      ]
     },
     "execution_count": 91,
     "metadata": {},
     "output_type": "execute_result"
    }
   ],
   "source": [
    "system.init"
   ]
  },
  {
   "cell_type": "code",
   "execution_count": 92,
   "metadata": {
    "collapsed": true
   },
   "outputs": [],
   "source": [
    "def slope_func(state, t, system):\n",
    "    '''accel, d_to_dest = state\n",
    "    unpack(system)\n",
    "    v = .1 * k/h\n",
    "    if(v < v_max):\n",
    "        v = accel * t * s\n",
    "    x = .5 * v * t**3\n",
    "    t_total = sqrt(2 * d_to_dest * (t*s) / v) \n",
    "    return  t_total, v'''\n",
    "    \n",
    "    x, v = state\n",
    "    unpack(system)\n",
    "\n",
    "    f_drag = p * v**2 * cd * area / 2\n",
    "    a_drag = f_drag / mass\n",
    "    \n",
    "    dxdt = v\n",
    "    dvdt = accel - a_drag\n",
    "    \n",
    "    return dxdt, dvdt\n",
    "    \n",
    "    \n",
    "    "
   ]
  },
  {
   "cell_type": "code",
   "execution_count": 98,
   "metadata": {},
   "outputs": [
    {
     "data": {
      "text/plain": [
       "(<Quantity(0.0, 'meter / second')>, <Quantity(200.0, 'meter / second ** 2')>)"
      ]
     },
     "execution_count": 98,
     "metadata": {},
     "output_type": "execute_result"
    }
   ],
   "source": [
    "slope_func(system.init, 0, system)"
   ]
  },
  {
   "cell_type": "code",
   "execution_count": 99,
   "metadata": {},
   "outputs": [],
   "source": [
    "run_odeint(system, slope_func)"
   ]
  },
  {
   "cell_type": "code",
   "execution_count": 100,
   "metadata": {
    "collapsed": true
   },
   "outputs": [],
   "source": [
    "def final_state(results):\n",
    "    \"\"\"Returns the final position and velocity, with units.\n",
    "    \n",
    "    results: TimeFrame with y and v.\n",
    "    \n",
    "    returns: y, v at t_end\n",
    "    \"\"\"\n",
    "    t_end = results.index[-1]\n",
    "    x, v = results.loc[t_end]\n",
    "    return x*m, v*m/s"
   ]
  },
  {
   "cell_type": "code",
   "execution_count": 101,
   "metadata": {},
   "outputs": [
    {
     "data": {
      "text/plain": [
       "(<Quantity(236454.28911979293, 'meter')>,\n",
       " <Quantity(2598.5676129199446, 'meter / second')>)"
      ]
     },
     "execution_count": 101,
     "metadata": {},
     "output_type": "execute_result"
    }
   ],
   "source": [
    "final_state(system.results)"
   ]
  },
  {
   "cell_type": "code",
   "execution_count": null,
   "metadata": {
    "collapsed": true
   },
   "outputs": [],
   "source": []
  }
 ],
 "metadata": {
  "kernelspec": {
   "display_name": "Python 3",
   "language": "python",
   "name": "python3"
  },
  "language_info": {
   "codemirror_mode": {
    "name": "ipython",
    "version": 3
   },
   "file_extension": ".py",
   "mimetype": "text/x-python",
   "name": "python",
   "nbconvert_exporter": "python",
   "pygments_lexer": "ipython3",
   "version": "3.6.1"
  }
 },
 "nbformat": 4,
 "nbformat_minor": 2
}
